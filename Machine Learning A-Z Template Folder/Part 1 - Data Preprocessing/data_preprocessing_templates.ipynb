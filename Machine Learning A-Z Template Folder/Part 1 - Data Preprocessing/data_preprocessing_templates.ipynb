{
 "cells": [
  {
   "cell_type": "markdown",
   "metadata": {},
   "source": [
    "## Data Preprocessing template\n",
    "  \n",
    "    \n",
    "Here we import our essential libraries  \n",
    "\n",
    "\n",
    "  \n",
    "    \n",
    "### What to do with missing data?  \n",
    "- Some options are to remove the line of data completely.    \n",
    "- Another common solution is to fill the missing value with the average of the data. Good package to use for this is `sklearn.preprocessing`  "
   ]
  },
  {
   "cell_type": "code",
   "execution_count": null,
   "metadata": {},
   "outputs": [],
   "source": []
  }
 ],
 "metadata": {
  "kernelspec": {
   "display_name": "Python 3",
   "language": "python",
   "name": "python3"
  },
  "language_info": {
   "codemirror_mode": {
    "name": "ipython",
    "version": 3
   },
   "file_extension": ".py",
   "mimetype": "text/x-python",
   "name": "python",
   "nbconvert_exporter": "python",
   "pygments_lexer": "ipython3",
   "version": "3.6.5"
  }
 },
 "nbformat": 4,
 "nbformat_minor": 2
}
