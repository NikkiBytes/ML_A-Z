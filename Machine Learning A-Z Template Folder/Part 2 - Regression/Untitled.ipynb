{
 "cells": [
  {
   "cell_type": "markdown",
   "metadata": {},
   "source": [
    "# Regressions  \n",
    "\n",
    "### Linear Regression  \n",
    "- A trend line that best fits your data  \n",
    "<img src=\"linear.png\" alt=\"linear\">  \n",
    "  \n",
    "- **Ordinary Least Squares:** sum(y - y^)2 -> find MIN to get best fitting line.    \n"
   ]
  },
  {
   "cell_type": "code",
   "execution_count": null,
   "metadata": {},
   "outputs": [],
   "source": []
  }
 ],
 "metadata": {
  "kernelspec": {
   "display_name": "Python 3",
   "language": "python",
   "name": "python3"
  },
  "language_info": {
   "codemirror_mode": {
    "name": "ipython",
    "version": 3
   },
   "file_extension": ".py",
   "mimetype": "text/x-python",
   "name": "python",
   "nbconvert_exporter": "python",
   "pygments_lexer": "ipython3",
   "version": "3.6.5"
  }
 },
 "nbformat": 4,
 "nbformat_minor": 2
}
